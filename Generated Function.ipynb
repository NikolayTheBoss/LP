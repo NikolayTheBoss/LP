{
 "cells": [
  {
   "cell_type": "code",
   "execution_count": 9,
   "metadata": {},
   "outputs": [
    {
     "name": "stdout",
     "output_type": "stream",
     "text": [
      "\n",
      "this is a test string for understanding this function\n",
      "his is a test string for understanding this functiont\n",
      "is is a test string for understanding this functionth\n",
      "s is a test string for understanding this functionthi\n",
      " is a test string for understanding this functionthis\n",
      "is a test string for understanding this functionthis \n",
      "s a test string for understanding this functionthis i\n",
      " a test string for understanding this functionthis is\n",
      "a test string for understanding this functionthis is \n",
      " test string for understanding this functionthis is a\n",
      "test string for understanding this functionthis is a \n",
      "est string for understanding this functionthis is a t\n",
      "st string for understanding this functionthis is a te\n",
      "t string for understanding this functionthis is a tes\n",
      " string for understanding this functionthis is a test\n",
      "string for understanding this functionthis is a test \n",
      "tring for understanding this functionthis is a test s\n",
      "ring for understanding this functionthis is a test st\n",
      "ing for understanding this functionthis is a test str\n",
      "ng for understanding this functionthis is a test stri\n",
      "g for understanding this functionthis is a test strin\n",
      " for understanding this functionthis is a test string\n",
      "for understanding this functionthis is a test string \n",
      "or understanding this functionthis is a test string f\n",
      "r understanding this functionthis is a test string fo\n",
      " understanding this functionthis is a test string for\n",
      "understanding this functionthis is a test string for \n",
      "nderstanding this functionthis is a test string for u\n",
      "derstanding this functionthis is a test string for un\n",
      "erstanding this functionthis is a test string for und\n",
      "rstanding this functionthis is a test string for unde\n",
      "standing this functionthis is a test string for under\n",
      "tanding this functionthis is a test string for unders\n",
      "anding this functionthis is a test string for underst\n",
      "nding this functionthis is a test string for understa\n",
      "ding this functionthis is a test string for understan\n",
      "ing this functionthis is a test string for understand\n",
      "ng this functionthis is a test string for understandi\n",
      "g this functionthis is a test string for understandin\n",
      " this functionthis is a test string for understanding\n",
      "this functionthis is a test string for understanding \n",
      "his functionthis is a test string for understanding t\n",
      "is functionthis is a test string for understanding th\n",
      "s functionthis is a test string for understanding thi\n",
      " functionthis is a test string for understanding this\n",
      "functionthis is a test string for understanding this \n",
      "unctionthis is a test string for understanding this f\n",
      "nctionthis is a test string for understanding this fu\n",
      "ctionthis is a test string for understanding this fun\n",
      "tionthis is a test string for understanding this func\n",
      "ionthis is a test string for understanding this funct\n",
      "onthis is a test string for understanding this functi\n"
     ]
    }
   ],
   "source": [
    "L = 'this is a test string for understanding this function'\n",
    "X = ''\n",
    "for i in range(len(L)):\n",
    "    print(X, end = '\\n')\n",
    "    X = L[i:] + L[:i]\n",
    "    \n"
   ]
  },
  {
   "cell_type": "code",
   "execution_count": null,
   "metadata": {},
   "outputs": [],
   "source": []
  }
 ],
 "metadata": {
  "kernelspec": {
   "display_name": "Python 3",
   "language": "python",
   "name": "python3"
  },
  "language_info": {
   "codemirror_mode": {
    "name": "ipython",
    "version": 3
   },
   "file_extension": ".py",
   "mimetype": "text/x-python",
   "name": "python",
   "nbconvert_exporter": "python",
   "pygments_lexer": "ipython3",
   "version": "3.8.5"
  }
 },
 "nbformat": 4,
 "nbformat_minor": 4
}
