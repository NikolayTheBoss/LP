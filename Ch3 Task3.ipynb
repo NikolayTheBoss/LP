{
 "cells": [
  {
   "cell_type": "code",
   "execution_count": 17,
   "metadata": {},
   "outputs": [
    {
     "data": {
      "text/plain": [
       "{'1': 'g', '2': 'f', '3': 'e', '4': 'd', '5': 'c'}"
      ]
     },
     "execution_count": 17,
     "metadata": {},
     "output_type": "execute_result"
    }
   ],
   "source": [
    "'''base_dict = {}\n",
    "key = ['1', '2', '3', '4', '5']\n",
    "val = ['g', 'f', 'e', 'd', 'c', 'b', 'a']\n",
    "base_dict = dict(zip(key, val))\n",
    "'''\n",
    "base_dict = {'1':'g', '2':'f', '3':'e', '4':'d', '5':'c', }\n",
    "'''for k, v in base_dict.items():\n",
    "    print(k,v)\n",
    "'''\n",
    "base_dict"
   ]
  }
 ],
 "metadata": {
  "kernelspec": {
   "display_name": "Python 3",
   "language": "python",
   "name": "python3"
  },
  "language_info": {
   "codemirror_mode": {
    "name": "ipython",
    "version": 3
   },
   "file_extension": ".py",
   "mimetype": "text/x-python",
   "name": "python",
   "nbconvert_exporter": "python",
   "pygments_lexer": "ipython3",
   "version": "3.8.5"
  }
 },
 "nbformat": 4,
 "nbformat_minor": 4
}
